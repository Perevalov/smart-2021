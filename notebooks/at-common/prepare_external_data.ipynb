{
 "cells": [
  {
   "cell_type": "code",
   "execution_count": 1,
   "id": "a307306e-4686-45ef-bfa0-f3e3209f587e",
   "metadata": {},
   "outputs": [],
   "source": [
    "import json\n",
    "import pandas as pd\n",
    "from sklearn.model_selection import StratifiedKFold"
   ]
  },
  {
   "cell_type": "code",
   "execution_count": 72,
   "id": "ad81fca7-2a07-4bfa-bec0-4622d33b6830",
   "metadata": {},
   "outputs": [],
   "source": [
    "literal_dict = {\n",
    "    'http://www.w3.org/2001/XMLSchema#date': 'date',\n",
    "    'http://www.w3.org/2001/XMLSchema#dateTime': 'date',\n",
    "    'http://www.w3.org/2001/XMLSchema#decimal': 'number',\n",
    "    'http://www.w3.org/2001/XMLSchema#integer': 'number'\n",
    "}"
   ]
  },
  {
   "cell_type": "code",
   "execution_count": 90,
   "id": "012a9978-72fc-46e5-ba62-8e33c2f35e4a",
   "metadata": {},
   "outputs": [],
   "source": [
    "def read_json(filename):\n",
    "    with open(filename) as f:\n",
    "        return json.load(f)\n",
    "    \n",
    "def write_json(data, filename):\n",
    "    with open(filename, 'w') as f:\n",
    "        json.dump(data, f, ensure_ascii=False, indent=4)\n",
    "        \n",
    "def find_questions(dataset, source_data, id_key, question_key):\n",
    "    def find_by(uid, source_data):\n",
    "        for j in source_data:\n",
    "            if uid == j[id_key]:\n",
    "                return j[question_key]\n",
    "        return None\n",
    "    \n",
    "    new_dataset = list()\n",
    "    \n",
    "    for i in dataset:\n",
    "        question = find_by(i['uid'], source_data)\n",
    "        if question and any(i['category'] == c for c in ['literal', 'resource', 'boolean']) and len(i['type']) > 0:\n",
    "            if i['category'] == 'literal' and not any(t in i['type'][0] for t in ['MathML', 'wktLiteral']):\n",
    "                i['type'] = [literal_dict[i['type'][0]]]\n",
    "            elif any(t in i['type'][0] for t in ['MathML', 'wktLiteral']):\n",
    "                continue\n",
    "            i['question'] = question\n",
    "            i['type'] = [t.replace(\"http://dbpedia.org/ontology/\", \"dbo:\") for t in i['type']]\n",
    "            new_dataset.append(i)\n",
    "    \n",
    "    return new_dataset"
   ]
  },
  {
   "cell_type": "code",
   "execution_count": 91,
   "id": "38187b53-ac5c-4b16-bfc7-e4a81e9d5411",
   "metadata": {},
   "outputs": [],
   "source": [
    "lcquad2_train = read_json(\"../../data/lcquad/train.json\")\n",
    "lcquad2_test =  read_json(\"../../data/lcquad/test.json\")\n",
    "\n",
    "lcquad_train = read_json(\"../../data/lcquad/train-data.json\")\n",
    "lcquad_test = read_json(\"../../data/lcquad/test-data.json\")\n",
    "\n",
    "lcquad2_train_types = read_json(\"../../data/at/wikidata/external_data/lcquad-2-train-types.json\")\n",
    "lcquad2_test_types = read_json(\"../../data/at/wikidata/external_data/lcquad-2-test-types.json\")\n",
    "\n",
    "lcquad_train_types = read_json(\"../../data/at/dbpedia/lcquad-train-types.json\")\n",
    "lcquad_test_types = read_json(\"../../data/at/dbpedia/lcquad-test-types.json\")"
   ]
  },
  {
   "cell_type": "code",
   "execution_count": 92,
   "id": "95c29d6f-505e-48a6-8d28-d8c97ff471a8",
   "metadata": {},
   "outputs": [],
   "source": [
    "lcquad_train_types = find_questions(lcquad_train_types, lcquad_train, '_id', 'corrected_question')\n",
    "lcquad_test_types = find_questions(lcquad_test_types, lcquad_test, '_id', 'corrected_question')\n",
    "\n",
    "lcquad2_train_types = find_questions(lcquad2_train_types, lcquad2_train, 'uid', 'question')\n",
    "lcquad2_test_types = find_questions(lcquad_test_types, lcquad2_test, 'uid', 'question')"
   ]
  },
  {
   "cell_type": "code",
   "execution_count": 93,
   "id": "309416cd-9f66-4ca6-a887-992a49358713",
   "metadata": {},
   "outputs": [
    {
     "data": {
      "text/plain": [
       "{'uid': 18165,\n",
       " 'category': 'boolean',\n",
       " 'type': ['boolean'],\n",
       " 'question': 'Is it true that the carbon footprint of the iPhone X Max is 106?'}"
      ]
     },
     "execution_count": 93,
     "metadata": {},
     "output_type": "execute_result"
    }
   ],
   "source": [
    "lcquad2_train_types[8]"
   ]
  },
  {
   "cell_type": "code",
   "execution_count": 94,
   "id": "c9cd488c-1dd8-46de-a46e-6fa8adad1a75",
   "metadata": {},
   "outputs": [],
   "source": [
    "literal_types = list()\n",
    "\n",
    "for q in lcquad_train_types + lcquad_test_types + lcquad2_train_types:\n",
    "    if q['category'] == 'literal':\n",
    "        literal_types += q['type']"
   ]
  },
  {
   "cell_type": "code",
   "execution_count": 95,
   "id": "86d2d60a-0dae-4e2f-9c73-28122e211f2c",
   "metadata": {},
   "outputs": [
    {
     "data": {
      "text/plain": [
       "{'date', 'number'}"
      ]
     },
     "execution_count": 95,
     "metadata": {},
     "output_type": "execute_result"
    }
   ],
   "source": [
    "set(literal_types)"
   ]
  },
  {
   "cell_type": "code",
   "execution_count": 96,
   "id": "f5e52a02-2441-455f-a824-d0ae54b890ed",
   "metadata": {},
   "outputs": [],
   "source": [
    "def json_to_csv(json_data):\n",
    "    ids = [q['uid'] for q in json_data]\n",
    "    questions = [q['question'] for q in json_data]\n",
    "    categories = [q['category'] for q in json_data]\n",
    "    types = [q['type'] for q in json_data]\n",
    "    \n",
    "    df = pd.DataFrame.from_dict({'id': ids, 'question': questions, 'category': categories, 'type': types})\n",
    "    \n",
    "    df = df[(~df.category.isna()) & (~df.type.isna()) & (~df.question.isna()) & (~df.question.isnull())]\n",
    "    df.question = df.question.apply(lambda x: str(x.replace('{', '').replace('}', ''))).astype(str)\n",
    "    df = df[df.question != 'n/a']\n",
    "    \n",
    "    return df"
   ]
  },
  {
   "cell_type": "code",
   "execution_count": 98,
   "id": "4885421a-a56d-41dc-b58e-3bbc88df6a4b",
   "metadata": {},
   "outputs": [],
   "source": [
    "json_to_csv(lcquad_train_types).to_csv(\"../../data/at/common/lcquad_train_types.csv\", sep='$', index=False)\n",
    "json_to_csv(lcquad_test_types).to_csv(\"../../data/at/common/lcquad_test_types.csv\", sep='$', index=False)\n",
    "json_to_csv(lcquad2_train_types).to_csv(\"../../data/at/common/lcquad2_train_types.csv\", sep='$', index=False)\n",
    "json_to_csv(lcquad2_test_types).to_csv(\"../../data/at/common/lcquad2_test_types.csv\", sep='$', index=False)"
   ]
  },
  {
   "cell_type": "code",
   "execution_count": null,
   "id": "09d0d2f5-8aa9-4dff-8e50-425eb9df51bf",
   "metadata": {},
   "outputs": [],
   "source": []
  }
 ],
 "metadata": {
  "kernelspec": {
   "display_name": "Python 3 (ipykernel)",
   "language": "python",
   "name": "python3"
  },
  "language_info": {
   "codemirror_mode": {
    "name": "ipython",
    "version": 3
   },
   "file_extension": ".py",
   "mimetype": "text/x-python",
   "name": "python",
   "nbconvert_exporter": "python",
   "pygments_lexer": "ipython3",
   "version": "3.8.10"
  }
 },
 "nbformat": 4,
 "nbformat_minor": 5
}
