{
 "cells": [
  {
   "cell_type": "code",
   "execution_count": 43,
   "id": "86674efa-bf53-498d-b163-81420646d734",
   "metadata": {},
   "outputs": [],
   "source": [
    "import json\n",
    "import pandas as pd\n",
    "from tqdm.notebook import tqdm\n",
    "from transformers import MarianTokenizer, MarianMTModel\n",
    "import torch\n",
    "\n",
    "device = torch.device('cuda' if torch.cuda.is_available() else 'cpu')"
   ]
  },
  {
   "cell_type": "code",
   "execution_count": 44,
   "id": "331ca6e3-7bc1-453a-ba5d-7927573e557c",
   "metadata": {},
   "outputs": [],
   "source": [
    "langs = ['de', 'es', 'zh', 'it', 'ro', 'vi', 'ru', 'fr', 'cs', 'jap']"
   ]
  },
  {
   "cell_type": "raw",
   "id": "cdb6e7bc-4f57-4cea-9585-ed20a0109ba6",
   "metadata": {},
   "source": [
    "# download models\n",
    "for lang in langs:\n",
    "    MarianMTModel.from_pretrained(f'Helsinki-NLP/opus-mt-en-{lang}')\n",
    "    MarianTokenizer.from_pretrained(f'Helsinki-NLP/opus-mt-en-{lang}')"
   ]
  },
  {
   "cell_type": "code",
   "execution_count": 45,
   "id": "9a7fa3a1-a3f1-471e-b650-6a5b1fbfb9d5",
   "metadata": {},
   "outputs": [
    {
     "data": {
      "text/plain": [
       "id                                                           198\n",
       "question       Which sovereign state has the highest speed li...\n",
       "category                                                resource\n",
       "type           ['dbo:Country', 'dbo:State', 'dbo:PopulatedPla...\n",
       "question_de    Welcher souveräne Staat hat die höchste Geschw...\n",
       "question_es    ¿Qué estado soberano tiene el límite de veloci...\n",
       "Name: 151, dtype: object"
      ]
     },
     "execution_count": 45,
     "metadata": {},
     "output_type": "execute_result"
    }
   ],
   "source": [
    "train.iloc[151]"
   ]
  },
  {
   "cell_type": "code",
   "execution_count": 37,
   "id": "500d02dc-a6bc-474d-ac86-1b74c88570c7",
   "metadata": {},
   "outputs": [],
   "source": [
    "train = pd.read_csv(\"../../data/at/dbpedia/task1_dbpedia_train_cleaned.csv\", sep='$')"
   ]
  },
  {
   "cell_type": "code",
   "execution_count": 38,
   "id": "d14db61a-7ac1-47d8-86fe-d7bebfc34235",
   "metadata": {},
   "outputs": [
    {
     "data": {
      "text/html": [
       "<div>\n",
       "<style scoped>\n",
       "    .dataframe tbody tr th:only-of-type {\n",
       "        vertical-align: middle;\n",
       "    }\n",
       "\n",
       "    .dataframe tbody tr th {\n",
       "        vertical-align: top;\n",
       "    }\n",
       "\n",
       "    .dataframe thead th {\n",
       "        text-align: right;\n",
       "    }\n",
       "</style>\n",
       "<table border=\"1\" class=\"dataframe\">\n",
       "  <thead>\n",
       "    <tr style=\"text-align: right;\">\n",
       "      <th></th>\n",
       "      <th>id</th>\n",
       "      <th>question</th>\n",
       "      <th>category</th>\n",
       "      <th>type</th>\n",
       "    </tr>\n",
       "  </thead>\n",
       "  <tbody>\n",
       "    <tr>\n",
       "      <th>0</th>\n",
       "      <td>0</td>\n",
       "      <td>Was Jacqueline Kennedy Onassis a follower of M...</td>\n",
       "      <td>boolean</td>\n",
       "      <td>['boolean']</td>\n",
       "    </tr>\n",
       "    <tr>\n",
       "      <th>1</th>\n",
       "      <td>1</td>\n",
       "      <td>What is the name of the opera based on Twelfth...</td>\n",
       "      <td>resource</td>\n",
       "      <td>['dbo:Opera', 'dbo:MusicalWork', 'dbo:Work']</td>\n",
       "    </tr>\n",
       "    <tr>\n",
       "      <th>2</th>\n",
       "      <td>2</td>\n",
       "      <td>When did Lena Horne receive the Grammy Award f...</td>\n",
       "      <td>literal</td>\n",
       "      <td>['date']</td>\n",
       "    </tr>\n",
       "    <tr>\n",
       "      <th>3</th>\n",
       "      <td>3</td>\n",
       "      <td>Do Prince Harry and Prince William have the sa...</td>\n",
       "      <td>boolean</td>\n",
       "      <td>['boolean']</td>\n",
       "    </tr>\n",
       "    <tr>\n",
       "      <th>4</th>\n",
       "      <td>5</td>\n",
       "      <td>Which is the hierarchical BrainInfo ID of the ...</td>\n",
       "      <td>literal</td>\n",
       "      <td>['string']</td>\n",
       "    </tr>\n",
       "  </tbody>\n",
       "</table>\n",
       "</div>"
      ],
      "text/plain": [
       "   id                                           question  category  \\\n",
       "0   0  Was Jacqueline Kennedy Onassis a follower of M...   boolean   \n",
       "1   1  What is the name of the opera based on Twelfth...  resource   \n",
       "2   2  When did Lena Horne receive the Grammy Award f...   literal   \n",
       "3   3  Do Prince Harry and Prince William have the sa...   boolean   \n",
       "4   5  Which is the hierarchical BrainInfo ID of the ...   literal   \n",
       "\n",
       "                                           type  \n",
       "0                                   ['boolean']  \n",
       "1  ['dbo:Opera', 'dbo:MusicalWork', 'dbo:Work']  \n",
       "2                                      ['date']  \n",
       "3                                   ['boolean']  \n",
       "4                                    ['string']  "
      ]
     },
     "execution_count": 38,
     "metadata": {},
     "output_type": "execute_result"
    }
   ],
   "source": [
    "train.head()"
   ]
  },
  {
   "cell_type": "code",
   "execution_count": null,
   "id": "07e1300f-13ec-4f4b-a8a6-c25934157c72",
   "metadata": {},
   "outputs": [
    {
     "data": {
      "application/vnd.jupyter.widget-view+json": {
       "model_id": "d8ca821f002e4decaebf48446a2ac4f0",
       "version_major": 2,
       "version_minor": 0
      },
      "text/plain": [
       "  0%|          | 0/37061 [00:00<?, ?it/s]"
      ]
     },
     "metadata": {},
     "output_type": "display_data"
    },
    {
     "data": {
      "application/vnd.jupyter.widget-view+json": {
       "model_id": "0a25a420167e44f9a3a7e8861d4f8794",
       "version_major": 2,
       "version_minor": 0
      },
      "text/plain": [
       "  0%|          | 0/37061 [00:00<?, ?it/s]"
      ]
     },
     "metadata": {},
     "output_type": "display_data"
    },
    {
     "data": {
      "application/vnd.jupyter.widget-view+json": {
       "model_id": "0f5446496ed343219f815f8ec110bc35",
       "version_major": 2,
       "version_minor": 0
      },
      "text/plain": [
       "  0%|          | 0/37061 [00:00<?, ?it/s]"
      ]
     },
     "metadata": {},
     "output_type": "display_data"
    },
    {
     "data": {
      "application/vnd.jupyter.widget-view+json": {
       "model_id": "615913f4f6524fecaf03b388572f36ec",
       "version_major": 2,
       "version_minor": 0
      },
      "text/plain": [
       "  0%|          | 0/37061 [00:00<?, ?it/s]"
      ]
     },
     "metadata": {},
     "output_type": "display_data"
    },
    {
     "data": {
      "application/vnd.jupyter.widget-view+json": {
       "model_id": "d5625bd9adbe48dabaf4de135acc2a2f",
       "version_major": 2,
       "version_minor": 0
      },
      "text/plain": [
       "  0%|          | 0/37061 [00:00<?, ?it/s]"
      ]
     },
     "metadata": {},
     "output_type": "display_data"
    },
    {
     "data": {
      "application/vnd.jupyter.widget-view+json": {
       "model_id": "912d52b0368d4cd99cc40f4d1c566746",
       "version_major": 2,
       "version_minor": 0
      },
      "text/plain": [
       "  0%|          | 0/37061 [00:00<?, ?it/s]"
      ]
     },
     "metadata": {},
     "output_type": "display_data"
    },
    {
     "name": "stderr",
     "output_type": "stream",
     "text": [
      "IOPub message rate exceeded.\n",
      "The Jupyter server will temporarily stop sending output\n",
      "to the client in order to avoid crashing it.\n",
      "To change this limit, set the config variable\n",
      "`--ServerApp.iopub_msg_rate_limit`.\n",
      "\n",
      "Current values:\n",
      "ServerApp.iopub_msg_rate_limit=1000.0 (msgs/sec)\n",
      "ServerApp.rate_limit_window=3.0 (secs)\n",
      "\n"
     ]
    }
   ],
   "source": [
    "for lang in langs:\n",
    "    model = MarianMTModel.from_pretrained(f'Helsinki-NLP/opus-mt-en-{lang}').to(device)\n",
    "    tokenizer = MarianTokenizer.from_pretrained(f'Helsinki-NLP/opus-mt-en-{lang}')\n",
    "    translation_list = list()\n",
    "    \n",
    "    for text in tqdm(train.question.values):\n",
    "        # Tokenize the text\n",
    "        batch = tokenizer([text], return_tensors=\"pt\", padding=True).to(device)\n",
    "\n",
    "        # Make sure that the tokenized text does not exceed the maximum\n",
    "        # allowed size of 512\n",
    "        batch[\"input_ids\"] = batch[\"input_ids\"][:, :512]\n",
    "        batch[\"attention_mask\"] = batch[\"attention_mask\"][:, :512]\n",
    "        # Perform the translation and decode the output\n",
    "        translation = model.generate(**batch)\n",
    "        translation_list.append(tokenizer.batch_decode(translation, skip_special_tokens=True)[0])\n",
    "        \n",
    "    train[f'question_{lang}'] = translation_list\n",
    "    train.to_csv(\"../../data/at-dbpedia/dbpedia/task1_dbpedia_train_translated.csv\", sep='$', index=False)"
   ]
  },
  {
   "cell_type": "code",
   "execution_count": null,
   "id": "957e7ff3-e69b-400e-a370-19c2716820fe",
   "metadata": {},
   "outputs": [],
   "source": []
  }
 ],
 "metadata": {
  "kernelspec": {
   "display_name": "Python 3 (ipykernel)",
   "language": "python",
   "name": "python3"
  },
  "language_info": {
   "codemirror_mode": {
    "name": "ipython",
    "version": 3
   },
   "file_extension": ".py",
   "mimetype": "text/x-python",
   "name": "python",
   "nbconvert_exporter": "python",
   "pygments_lexer": "ipython3",
   "version": "3.8.10"
  }
 },
 "nbformat": 4,
 "nbformat_minor": 5
}
