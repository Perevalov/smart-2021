{
 "cells": [
  {
   "cell_type": "code",
   "execution_count": 1,
   "id": "a307306e-4686-45ef-bfa0-f3e3209f587e",
   "metadata": {},
   "outputs": [],
   "source": [
    "import json\n",
    "import pandas as pd\n",
    "from sklearn.model_selection import StratifiedKFold"
   ]
  },
  {
   "cell_type": "code",
   "execution_count": 2,
   "id": "012a9978-72fc-46e5-ba62-8e33c2f35e4a",
   "metadata": {},
   "outputs": [],
   "source": [
    "def read_json(filename):\n",
    "    with open(filename) as f:\n",
    "        return json.load(f)\n",
    "    \n",
    "def write_json(data, filename):\n",
    "    with open(filename, 'w') as f:\n",
    "        json.dump(data, f, ensure_ascii=False, indent=4)"
   ]
  },
  {
   "cell_type": "code",
   "execution_count": 10,
   "id": "38187b53-ac5c-4b16-bfc7-e4a81e9d5411",
   "metadata": {},
   "outputs": [],
   "source": [
    "train = read_json(\"../../data/at/dbpedia/task1_dbpedia_train.json\")"
   ]
  },
  {
   "cell_type": "code",
   "execution_count": 11,
   "id": "516d19b0-1fb4-46f2-a7ff-ec9f2bd87e58",
   "metadata": {},
   "outputs": [
    {
     "data": {
      "text/plain": [
       "{'id': 0,\n",
       " 'question': 'Was Jacqueline Kennedy Onassis a follower of Melkite Greek Catholic Church?',\n",
       " 'category': 'boolean',\n",
       " 'type': ['boolean']}"
      ]
     },
     "execution_count": 11,
     "metadata": {},
     "output_type": "execute_result"
    }
   ],
   "source": [
    "train[0]"
   ]
  },
  {
   "cell_type": "code",
   "execution_count": 12,
   "id": "7d4ca531-a2b2-4ee8-8259-e8d859e8f4aa",
   "metadata": {},
   "outputs": [],
   "source": [
    "ids = [q['id'] for q in train]\n",
    "questions = [q['question'] for q in train]\n",
    "categories = [q['category'] for q in train]\n",
    "types = [q['type'] for q in train]"
   ]
  },
  {
   "cell_type": "code",
   "execution_count": 13,
   "id": "bc698256-95d6-4d66-bf5e-75f44df681df",
   "metadata": {},
   "outputs": [
    {
     "name": "stdout",
     "output_type": "stream",
     "text": [
      "(36670, 4)\n"
     ]
    },
    {
     "data": {
      "text/html": [
       "<div>\n",
       "<style scoped>\n",
       "    .dataframe tbody tr th:only-of-type {\n",
       "        vertical-align: middle;\n",
       "    }\n",
       "\n",
       "    .dataframe tbody tr th {\n",
       "        vertical-align: top;\n",
       "    }\n",
       "\n",
       "    .dataframe thead th {\n",
       "        text-align: right;\n",
       "    }\n",
       "</style>\n",
       "<table border=\"1\" class=\"dataframe\">\n",
       "  <thead>\n",
       "    <tr style=\"text-align: right;\">\n",
       "      <th></th>\n",
       "      <th>id</th>\n",
       "      <th>question</th>\n",
       "      <th>category</th>\n",
       "      <th>type</th>\n",
       "    </tr>\n",
       "  </thead>\n",
       "  <tbody>\n",
       "    <tr>\n",
       "      <th>0</th>\n",
       "      <td>0</td>\n",
       "      <td>Was Jacqueline Kennedy Onassis a follower of M...</td>\n",
       "      <td>boolean</td>\n",
       "      <td>[boolean]</td>\n",
       "    </tr>\n",
       "    <tr>\n",
       "      <th>1</th>\n",
       "      <td>1</td>\n",
       "      <td>What is the name of the opera based on Twelfth...</td>\n",
       "      <td>resource</td>\n",
       "      <td>[dbo:Opera, dbo:MusicalWork, dbo:Work]</td>\n",
       "    </tr>\n",
       "    <tr>\n",
       "      <th>2</th>\n",
       "      <td>2</td>\n",
       "      <td>When did Lena Horne receive the Grammy Award f...</td>\n",
       "      <td>literal</td>\n",
       "      <td>[date]</td>\n",
       "    </tr>\n",
       "    <tr>\n",
       "      <th>3</th>\n",
       "      <td>3</td>\n",
       "      <td>Do Prince Harry and Prince William have the sa...</td>\n",
       "      <td>boolean</td>\n",
       "      <td>[boolean]</td>\n",
       "    </tr>\n",
       "    <tr>\n",
       "      <th>4</th>\n",
       "      <td>5</td>\n",
       "      <td>Which is the hierarchical BrainInfo ID of the ...</td>\n",
       "      <td>literal</td>\n",
       "      <td>[string]</td>\n",
       "    </tr>\n",
       "  </tbody>\n",
       "</table>\n",
       "</div>"
      ],
      "text/plain": [
       "   id                                           question  category  \\\n",
       "0   0  Was Jacqueline Kennedy Onassis a follower of M...   boolean   \n",
       "1   1  What is the name of the opera based on Twelfth...  resource   \n",
       "2   2  When did Lena Horne receive the Grammy Award f...   literal   \n",
       "3   3  Do Prince Harry and Prince William have the sa...   boolean   \n",
       "4   5  Which is the hierarchical BrainInfo ID of the ...   literal   \n",
       "\n",
       "                                     type  \n",
       "0                               [boolean]  \n",
       "1  [dbo:Opera, dbo:MusicalWork, dbo:Work]  \n",
       "2                                  [date]  \n",
       "3                               [boolean]  \n",
       "4                                [string]  "
      ]
     },
     "execution_count": 13,
     "metadata": {},
     "output_type": "execute_result"
    }
   ],
   "source": [
    "train_df = pd.DataFrame.from_dict({'id': ids, 'question': questions, 'category': categories, 'type': types})\n",
    "print(train_df.shape)\n",
    "train_df.head()"
   ]
  },
  {
   "cell_type": "code",
   "execution_count": 14,
   "id": "8ea90d03-2915-4569-b388-b7be71526019",
   "metadata": {},
   "outputs": [
    {
     "name": "stdout",
     "output_type": "stream",
     "text": [
      "(36670, 4)\n"
     ]
    }
   ],
   "source": [
    "train_df = train_df[(~train_df.category.isna()) & (~train_df.type.isna()) & (~train_df.question.isna()) & (~train_df.question.isnull())]\n",
    "train_df.question = train_df.question.apply(lambda x: str(x.replace('{', '').replace('}', ''))).astype(str)\n",
    "train_df = train_df[train_df.question != 'n/a']\n",
    "print(train_df.shape)"
   ]
  },
  {
   "cell_type": "code",
   "execution_count": 15,
   "id": "4542a600-b424-4e7b-a306-f1133a519aea",
   "metadata": {},
   "outputs": [],
   "source": [
    "train_df.to_csv(\"../../data/at/dbpedia/smarttask_dbpedia_train_cleaned.csv\", sep='$', index=False)"
   ]
  },
  {
   "cell_type": "code",
   "execution_count": 8,
   "id": "063e1c67-3d1f-4510-8130-34e5a03abbd2",
   "metadata": {},
   "outputs": [
    {
     "data": {
      "text/plain": [
       "3"
      ]
     },
     "execution_count": 8,
     "metadata": {},
     "output_type": "execute_result"
    }
   ],
   "source": [
    "n_splits = 3\n",
    "skf = StratifiedKFold(n_splits=n_splits, shuffle=True, random_state=42)\n",
    "skf.get_n_splits(train_df.id, train_df.category)"
   ]
  },
  {
   "cell_type": "code",
   "execution_count": 10,
   "id": "34d2b5e7-8b1e-44a6-9abd-0873ac842706",
   "metadata": {},
   "outputs": [],
   "source": [
    "train_list = []\n",
    "test_list = []\n",
    "\n",
    "for train_index, test_index in skf.split(train_df.id, train_df.category):\n",
    "    # print(\"TRAIN:\", train_index, \"TEST:\", test_index)\n",
    "    train_list.append(train_df.iloc[train_index])\n",
    "    test_list.append(train_df.iloc[test_index])"
   ]
  },
  {
   "cell_type": "code",
   "execution_count": null,
   "id": "09d0d2f5-8aa9-4dff-8e50-425eb9df51bf",
   "metadata": {},
   "outputs": [],
   "source": []
  }
 ],
 "metadata": {
  "kernelspec": {
   "display_name": "Python 3 (ipykernel)",
   "language": "python",
   "name": "python3"
  },
  "language_info": {
   "codemirror_mode": {
    "name": "ipython",
    "version": 3
   },
   "file_extension": ".py",
   "mimetype": "text/x-python",
   "name": "python",
   "nbconvert_exporter": "python",
   "pygments_lexer": "ipython3",
   "version": "3.8.10"
  }
 },
 "nbformat": 4,
 "nbformat_minor": 5
}
