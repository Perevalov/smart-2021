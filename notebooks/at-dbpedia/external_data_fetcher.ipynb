{
 "cells": [
  {
   "cell_type": "code",
   "execution_count": 1,
   "id": "5ea73877-9ed9-48cd-b2d1-d16097b649ef",
   "metadata": {},
   "outputs": [],
   "source": [
    "import json\n",
    "import base64\n",
    "import requests\n",
    "import pandas as pd\n",
    "from time import sleep\n",
    "from SPARQLWrapper import SPARQLWrapper, JSON, SPARQLWrapper\n",
    "from tqdm.notebook import tqdm\n",
    "\n",
    "wdt_endpoint = 'https://query.wikidata.org/bigdata/namespace/wdq/sparql'\n",
    "dbpedia_endpoint = 'https://dbpedia.org/sparql'"
   ]
  },
  {
   "cell_type": "code",
   "execution_count": 20,
   "id": "456cee51-32fa-4701-a80b-a91f1a25c807",
   "metadata": {
    "tags": []
   },
   "outputs": [],
   "source": [
    "sparql_wdt = \"\"\"\n",
    "    PREFIX wd: <http://www.wikidata.org/entity/>\n",
    "    PREFIX wdt: <http://www.wikidata.org/prop/direct/> \n",
    "    \n",
    "    SELECT ?types \n",
    "    WHERE {{\n",
    "        <{uri}> wdt:P31 ?instanceOf .\n",
    "        ?instanceOf wdt:P279 ?types .\n",
    "    }}\n",
    "\"\"\"\n",
    "\n",
    "sparql_dbpedia = \"\"\"\n",
    "    PREFIX dbr: <http://dbpedia.org/resource/>\n",
    "    PREFIX rdfs: <http://www.w3.org/2000/01/rdf-schema#>\n",
    "    PREFIX rdf: <http://www.w3.org/1999/02/22-rdf-syntax-ns#>\n",
    "\n",
    "    SELECT ?aType\n",
    "    WHERE {{\n",
    "      ?uri rdfs:subClassOf* ?aType .\n",
    "      {{\n",
    "        SELECT DISTINCT ?uri (COUNT(?subClass) as ?level)\n",
    "        WHERE {{\n",
    "          <{uri}> rdf:type ?uri .\n",
    "          ?uri rdfs:subClassOf* ?subClass .\n",
    "          FILTER(CONTAINS(STR(?uri), \"dbpedia.org/ontology\"))\n",
    "        }}\n",
    "        GROUP BY ?uri\n",
    "        ORDER BY DESC(?level)\n",
    "        LIMIT 1\n",
    "      }}\n",
    "      FILTER(CONTAINS(STR(?aType), \"dbpedia.org/ontology\"))\n",
    "    }}\n",
    "\"\"\""
   ]
  },
  {
   "cell_type": "code",
   "execution_count": 42,
   "id": "1250b726-c626-42ab-9dc6-7e8834dbc073",
   "metadata": {},
   "outputs": [],
   "source": [
    "def read_json(filename):\n",
    "    with open(filename) as f:\n",
    "        return json.load(f)\n",
    "    \n",
    "def write_json(data, filename):\n",
    "    with open(filename, 'w') as f:\n",
    "        json.dump(data, f, ensure_ascii=False, indent=4)\n",
    "\n",
    "def execute(query: str, endpoint_url: str):\n",
    "    \"\"\"\n",
    "    https://dbpedia.org/sparql\n",
    "    https://query.wikidata.org/bigdata/namespace/wdq/sparql\n",
    "    \"\"\"\n",
    "    timeout = 1\n",
    "    result = False\n",
    "    e = ''\n",
    "    while not result or timeout < 15:\n",
    "        try:\n",
    "            sleep(timeout)\n",
    "            sparql = SPARQLWrapper(endpoint_url)\n",
    "            sparql.setQuery(query)\n",
    "            sparql.setReturnFormat(JSON)\n",
    "            response = sparql.query().convert()\n",
    "            result = True\n",
    "            return response\n",
    "        except Exception as e:\n",
    "            e = str(e)\n",
    "            timeout += 1\n",
    "    \n",
    "    return {'error': e}\n",
    "\n",
    "def get_values(sparql_result):\n",
    "    return [list(b.values())[0]['value'] for b in sparql_result['results']['bindings']]\n",
    "\n",
    "def run(dataset, name, endpoint):\n",
    "    data_new = list()\n",
    "    cnt = 0\n",
    "    for q in tqdm(dataset):\n",
    "        uid = q['_id']\n",
    "        category, types = '', []\n",
    "        try:\n",
    "            q_result = execute(q['sparql_query'], endpoint)\n",
    "            if 'error' not in q_result.keys() and not 'boolean' in q_result.keys() and len(q_result['results']['bindings']) > 0:\n",
    "                if list(q_result['results']['bindings'][0].values())[0]['type'] == 'uri':\n",
    "                    category = 'resource'\n",
    "                    types = execute(sparql_dbpedia.format(uri=list(q_result['results']['bindings'][0].values())[0]['value']), endpoint)\n",
    "                    types = get_values(types)\n",
    "\n",
    "                elif (list(q_result['results']['bindings'][0].values())[0]['type'] == 'typed-literal' or list(q_result['results']['bindings'][0].values())[0]['type'] == 'literal') and len(q_result['results']['bindings']) > 0:\n",
    "                    category = 'literal'\n",
    "                    types = [list(q_result['results']['bindings'][0].values())[0]['datatype']]\n",
    "            elif 'error' not in q_result.keys() and 'boolean' in q_result.keys():\n",
    "                category = 'boolean'\n",
    "                types = ['boolean']\n",
    "        except Exception as e:\n",
    "            category = 'Error' + str(e)\n",
    "        if len(types) > 0:\n",
    "            data_new.append({'uid': uid, 'category': category, 'type': types})\n",
    "        \n",
    "        if cnt%50 == 0:\n",
    "            write_json(data_new, f\"../../data/at/{name}.json\")\n",
    "            \n",
    "        cnt += 1"
   ]
  },
  {
   "cell_type": "code",
   "execution_count": 43,
   "id": "050e66a9-a086-4977-82bf-ea1b3fcc1abe",
   "metadata": {},
   "outputs": [],
   "source": [
    "lcquad_train_results = read_json(\"../../data/lcquad/train-data.json\")\n",
    "lcquad_test_results = read_json(\"../../data/lcquad/test-data.json\")"
   ]
  },
  {
   "cell_type": "code",
   "execution_count": 44,
   "id": "5b889527-22f1-4ee7-b166-17d57279b8a9",
   "metadata": {},
   "outputs": [
    {
     "data": {
      "text/plain": [
       "{'_id': '106',\n",
       " 'corrected_question': 'What is the incumbent of the Al Gore presidential campaign, 2000 and also the president of the Ann Lewis ?',\n",
       " 'intermediary_question': 'What is the <incumbent> of the <Al Gore presidential campaign, 2000> and <president> of the <Ann Lewis>',\n",
       " 'sparql_query': ' SELECT DISTINCT ?uri WHERE { <http://dbpedia.org/resource/Al_Gore_presidential_campaign,_2000> <http://dbpedia.org/ontology/incumbent> ?uri. <http://dbpedia.org/resource/Ann_Lewis> <http://dbpedia.org/ontology/president> ?uri} ',\n",
       " 'sparql_template_id': 16}"
      ]
     },
     "execution_count": 44,
     "metadata": {},
     "output_type": "execute_result"
    }
   ],
   "source": [
    "lcquad_train_results[5]"
   ]
  },
  {
   "cell_type": "code",
   "execution_count": 45,
   "id": "1b8b827f-759d-4eb4-9063-c14bdcd3a377",
   "metadata": {},
   "outputs": [
    {
     "data": {
      "application/vnd.jupyter.widget-view+json": {
       "model_id": "094f7531ae914fd1b3474670b162f51c",
       "version_major": 2,
       "version_minor": 0
      },
      "text/plain": [
       "HBox(children=(FloatProgress(value=0.0, max=4000.0), HTML(value='')))"
      ]
     },
     "metadata": {},
     "output_type": "display_data"
    },
    {
     "name": "stdout",
     "output_type": "stream",
     "text": [
      "\n"
     ]
    }
   ],
   "source": [
    "run(lcquad_train_results, 'dbpedia/lcquad-train-types', dbpedia_endpoint)"
   ]
  },
  {
   "cell_type": "code",
   "execution_count": 46,
   "id": "dad06c39-7b40-4e03-868d-87bb20751286",
   "metadata": {},
   "outputs": [
    {
     "data": {
      "application/vnd.jupyter.widget-view+json": {
       "model_id": "ec210934374d4409bc9fbf4b4ab025f8",
       "version_major": 2,
       "version_minor": 0
      },
      "text/plain": [
       "HBox(children=(FloatProgress(value=0.0, max=1000.0), HTML(value='')))"
      ]
     },
     "metadata": {},
     "output_type": "display_data"
    },
    {
     "name": "stdout",
     "output_type": "stream",
     "text": [
      "\n"
     ]
    }
   ],
   "source": [
    "run(lcquad_test_results, 'dbpedia/lcquad-test-types', dbpedia_endpoint)"
   ]
  },
  {
   "cell_type": "code",
   "execution_count": null,
   "id": "85cc4d53-51dc-4be9-a91a-fcaaffd5f4c9",
   "metadata": {},
   "outputs": [],
   "source": []
  }
 ],
 "metadata": {
  "kernelspec": {
   "display_name": "Python 3 (ipykernel)",
   "language": "python",
   "name": "python3"
  },
  "language_info": {
   "codemirror_mode": {
    "name": "ipython",
    "version": 3
   },
   "file_extension": ".py",
   "mimetype": "text/x-python",
   "name": "python",
   "nbconvert_exporter": "python",
   "pygments_lexer": "ipython3",
   "version": "3.8.10"
  }
 },
 "nbformat": 4,
 "nbformat_minor": 5
}
