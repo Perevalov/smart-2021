{
 "cells": [
  {
   "cell_type": "code",
   "execution_count": 1,
   "id": "86674efa-bf53-498d-b163-81420646d734",
   "metadata": {},
   "outputs": [],
   "source": [
    "import json\n",
    "import pandas as pd\n",
    "from tqdm.notebook import tqdm\n",
    "from transformers import MarianTokenizer, MarianMTModel\n",
    "import torch\n",
    "\n",
    "device = torch.device('cuda' if torch.cuda.is_available() else 'cpu')"
   ]
  },
  {
   "cell_type": "code",
   "execution_count": 2,
   "id": "331ca6e3-7bc1-453a-ba5d-7927573e557c",
   "metadata": {},
   "outputs": [],
   "source": [
    "langs = ['de', 'es', 'zh', 'it', 'ro', 'vi', 'ru', 'fr', 'cs', 'jap']"
   ]
  },
  {
   "cell_type": "raw",
   "id": "cdb6e7bc-4f57-4cea-9585-ed20a0109ba6",
   "metadata": {},
   "source": [
    "# download models\n",
    "for lang in langs:\n",
    "    MarianMTModel.from_pretrained(f'Helsinki-NLP/opus-mt-en-{lang}')\n",
    "    MarianTokenizer.from_pretrained(f'Helsinki-NLP/opus-mt-en-{lang}')"
   ]
  },
  {
   "cell_type": "code",
   "execution_count": 3,
   "id": "9a7fa3a1-a3f1-471e-b650-6a5b1fbfb9d5",
   "metadata": {},
   "outputs": [
    {
     "ename": "NameError",
     "evalue": "name 'train' is not defined",
     "output_type": "error",
     "traceback": [
      "\u001b[0;31m---------------------------------------------------------------------------\u001b[0m",
      "\u001b[0;31mNameError\u001b[0m                                 Traceback (most recent call last)",
      "\u001b[0;32m/tmp/ipykernel_13053/912550190.py\u001b[0m in \u001b[0;36m<module>\u001b[0;34m\u001b[0m\n\u001b[0;32m----> 1\u001b[0;31m \u001b[0mtrain\u001b[0m\u001b[0;34m.\u001b[0m\u001b[0miloc\u001b[0m\u001b[0;34m[\u001b[0m\u001b[0;36m151\u001b[0m\u001b[0;34m]\u001b[0m\u001b[0;34m\u001b[0m\u001b[0;34m\u001b[0m\u001b[0m\n\u001b[0m",
      "\u001b[0;31mNameError\u001b[0m: name 'train' is not defined"
     ]
    }
   ],
   "source": [
    "train.iloc[151]"
   ]
  },
  {
   "cell_type": "code",
   "execution_count": 4,
   "id": "500d02dc-a6bc-474d-ac86-1b74c88570c7",
   "metadata": {},
   "outputs": [],
   "source": [
    "train = pd.read_csv(\"../../data/at/dbpedia/task1_dbpedia_train_translated.csv\", sep='$')"
   ]
  },
  {
   "cell_type": "code",
   "execution_count": 5,
   "id": "d14db61a-7ac1-47d8-86fe-d7bebfc34235",
   "metadata": {},
   "outputs": [
    {
     "data": {
      "text/html": [
       "<div>\n",
       "<style scoped>\n",
       "    .dataframe tbody tr th:only-of-type {\n",
       "        vertical-align: middle;\n",
       "    }\n",
       "\n",
       "    .dataframe tbody tr th {\n",
       "        vertical-align: top;\n",
       "    }\n",
       "\n",
       "    .dataframe thead th {\n",
       "        text-align: right;\n",
       "    }\n",
       "</style>\n",
       "<table border=\"1\" class=\"dataframe\">\n",
       "  <thead>\n",
       "    <tr style=\"text-align: right;\">\n",
       "      <th></th>\n",
       "      <th>id</th>\n",
       "      <th>question</th>\n",
       "      <th>category</th>\n",
       "      <th>type</th>\n",
       "      <th>question_de</th>\n",
       "      <th>question_es</th>\n",
       "      <th>question_zh</th>\n",
       "      <th>question_it</th>\n",
       "      <th>question_ro</th>\n",
       "      <th>question_vi</th>\n",
       "      <th>question_ru</th>\n",
       "      <th>question_fr</th>\n",
       "      <th>question_cs</th>\n",
       "      <th>question_jap</th>\n",
       "    </tr>\n",
       "  </thead>\n",
       "  <tbody>\n",
       "    <tr>\n",
       "      <th>0</th>\n",
       "      <td>0</td>\n",
       "      <td>Was Jacqueline Kennedy Onassis a follower of M...</td>\n",
       "      <td>boolean</td>\n",
       "      <td>['boolean']</td>\n",
       "      <td>War Jacqueline Kennedy Onassis eine Anhängerin...</td>\n",
       "      <td>¿Fue Jacqueline Kennedy Onassis una seguidora ...</td>\n",
       "      <td>杰奎琳·肯尼迪·奥纳西斯是梅尔基特希腊天主教会的追随者吗?</td>\n",
       "      <td>Jacqueline Kennedy Onassis era un seguace dell...</td>\n",
       "      <td>A fost Jacqueline Kennedy Onassis un adept al ...</td>\n",
       "      <td>Phải chăng ông Kennedy là một môn đồ của Giáo ...</td>\n",
       "      <td>Была ли Жаклин Кеннеди Онассис последователем ...</td>\n",
       "      <td>Jacqueline Kennedy Onassis était - elle une di...</td>\n",
       "      <td>Byla Jacqueline Kennedy Onassisová následovník...</td>\n",
       "      <td>アビトリダ と い う 者 が, ギリシヤ 語 を 使 う パトラマびと, クレネ 人 など...</td>\n",
       "    </tr>\n",
       "    <tr>\n",
       "      <th>1</th>\n",
       "      <td>1</td>\n",
       "      <td>What is the name of the opera based on Twelfth...</td>\n",
       "      <td>resource</td>\n",
       "      <td>['dbo:Opera', 'dbo:MusicalWork', 'dbo:Work']</td>\n",
       "      <td>Wie heißt die Oper, die auf der Zwölften Nacht...</td>\n",
       "      <td>¿Cuál es el nombre de la ópera basada en la du...</td>\n",
       "      <td>十二夜歌剧的名字是什么?</td>\n",
       "      <td>Qual è il nome dell'opera basata sulla dodices...</td>\n",
       "      <td>Care este numele operei bazate pe Noaptea a 12-a?</td>\n",
       "      <td>Tên của vở kịch dựa trên ngày 12 tháng 12 là gì?</td>\n",
       "      <td>Как называется опера, основанная на \"Двенадцат...</td>\n",
       "      <td>Quel est le nom de l'opéra basé sur la Douzièm...</td>\n",
       "      <td>Jak se jmenuje opera založená na Dvanácté noci?</td>\n",
       "      <td>ジザ の 名 は なめらか で あ る. アカジン の 上 に は 名 が あ る か.</td>\n",
       "    </tr>\n",
       "    <tr>\n",
       "      <th>2</th>\n",
       "      <td>2</td>\n",
       "      <td>When did Lena Horne receive the Grammy Award f...</td>\n",
       "      <td>literal</td>\n",
       "      <td>['date']</td>\n",
       "      <td>Wann erhielt Lena Horne den Grammy Award für d...</td>\n",
       "      <td>¿Cuándo recibió Lena Horne el Premio Grammy al...</td>\n",
       "      <td>莉娜·荷恩什么时候得到 格莱美奖奖 最佳爵士Vocal专辑?</td>\n",
       "      <td>Quando Lena Horne ha ricevuto il Grammy Award ...</td>\n",
       "      <td>Când a primit Lena Horne premiul Grammy pentru...</td>\n",
       "      <td>Khi nào chị ấy nhận được giải thưởng cho bản n...</td>\n",
       "      <td>Когда Лена Хорн получила премию Грэмми за лучш...</td>\n",
       "      <td>Quand Lena Horne a-t-elle reçu le Grammy Award...</td>\n",
       "      <td>Kdy dostala Lena Horne cenu Grammy za nejlepší...</td>\n",
       "      <td>ホルマククミテを受けるば,クミンが危険をみてきたか.</td>\n",
       "    </tr>\n",
       "    <tr>\n",
       "      <th>3</th>\n",
       "      <td>3</td>\n",
       "      <td>Do Prince Harry and Prince William have the sa...</td>\n",
       "      <td>boolean</td>\n",
       "      <td>['boolean']</td>\n",
       "      <td>Haben Prinz Harry und Prinz William die gleich...</td>\n",
       "      <td>¿El príncipe Harry y el príncipe Guillermo tie...</td>\n",
       "      <td>哈利王子和威廉王子有同父母吗?</td>\n",
       "      <td>Il principe Harry e il principe William hanno ...</td>\n",
       "      <td>Prinţul Harry şi prinţul William au aceiaşi pă...</td>\n",
       "      <td>Có phải Hoàng tử Harry và Hoàng tử William cũn...</td>\n",
       "      <td>У принца Гарри и принца Уильяма одни и те же р...</td>\n",
       "      <td>Le prince Harry et le prince William ont - ils...</td>\n",
       "      <td>Mají princ Harry a princ William stejné rodiče?</td>\n",
       "      <td>君 た る 者, 君 た る 者 も, 同様 に 両親 を 持 つ だ ろ う か.</td>\n",
       "    </tr>\n",
       "    <tr>\n",
       "      <th>4</th>\n",
       "      <td>5</td>\n",
       "      <td>Which is the hierarchical BrainInfo ID of the ...</td>\n",
       "      <td>literal</td>\n",
       "      <td>['string']</td>\n",
       "      <td>Welches ist die hierarchische BrainInfo ID des...</td>\n",
       "      <td>¿Cuál es el ID de BrainInfo jerárquico del lób...</td>\n",
       "      <td>哪个是前额叶的大脑信息识别码?</td>\n",
       "      <td>Qual è l'ID gerarchico BrainInfo del lobo fron...</td>\n",
       "      <td>Care este ierarhicul BrainInfo ID al lobului f...</td>\n",
       "      <td>Cái nào là chứng minh của khối u?</td>\n",
       "      <td>Какой иерархический идентификатор мозга лобной...</td>\n",
       "      <td>Quel est le BrainInfo ID hiérarchique du lobe ...</td>\n",
       "      <td>Který je hierarchický BrainInfo ID čelního lal...</td>\n",
       "      <td>\" わたし は 東 に あ っ て 語 る べ き こと を 見 た こと が あ る か....</td>\n",
       "    </tr>\n",
       "  </tbody>\n",
       "</table>\n",
       "</div>"
      ],
      "text/plain": [
       "   id                                           question  category  \\\n",
       "0   0  Was Jacqueline Kennedy Onassis a follower of M...   boolean   \n",
       "1   1  What is the name of the opera based on Twelfth...  resource   \n",
       "2   2  When did Lena Horne receive the Grammy Award f...   literal   \n",
       "3   3  Do Prince Harry and Prince William have the sa...   boolean   \n",
       "4   5  Which is the hierarchical BrainInfo ID of the ...   literal   \n",
       "\n",
       "                                           type  \\\n",
       "0                                   ['boolean']   \n",
       "1  ['dbo:Opera', 'dbo:MusicalWork', 'dbo:Work']   \n",
       "2                                      ['date']   \n",
       "3                                   ['boolean']   \n",
       "4                                    ['string']   \n",
       "\n",
       "                                         question_de  \\\n",
       "0  War Jacqueline Kennedy Onassis eine Anhängerin...   \n",
       "1  Wie heißt die Oper, die auf der Zwölften Nacht...   \n",
       "2  Wann erhielt Lena Horne den Grammy Award für d...   \n",
       "3  Haben Prinz Harry und Prinz William die gleich...   \n",
       "4  Welches ist die hierarchische BrainInfo ID des...   \n",
       "\n",
       "                                         question_es  \\\n",
       "0  ¿Fue Jacqueline Kennedy Onassis una seguidora ...   \n",
       "1  ¿Cuál es el nombre de la ópera basada en la du...   \n",
       "2  ¿Cuándo recibió Lena Horne el Premio Grammy al...   \n",
       "3  ¿El príncipe Harry y el príncipe Guillermo tie...   \n",
       "4  ¿Cuál es el ID de BrainInfo jerárquico del lób...   \n",
       "\n",
       "                      question_zh  \\\n",
       "0   杰奎琳·肯尼迪·奥纳西斯是梅尔基特希腊天主教会的追随者吗?   \n",
       "1                    十二夜歌剧的名字是什么?   \n",
       "2  莉娜·荷恩什么时候得到 格莱美奖奖 最佳爵士Vocal专辑?   \n",
       "3                 哈利王子和威廉王子有同父母吗?   \n",
       "4                 哪个是前额叶的大脑信息识别码?   \n",
       "\n",
       "                                         question_it  \\\n",
       "0  Jacqueline Kennedy Onassis era un seguace dell...   \n",
       "1  Qual è il nome dell'opera basata sulla dodices...   \n",
       "2  Quando Lena Horne ha ricevuto il Grammy Award ...   \n",
       "3  Il principe Harry e il principe William hanno ...   \n",
       "4  Qual è l'ID gerarchico BrainInfo del lobo fron...   \n",
       "\n",
       "                                         question_ro  \\\n",
       "0  A fost Jacqueline Kennedy Onassis un adept al ...   \n",
       "1  Care este numele operei bazate pe Noaptea a 12-a?   \n",
       "2  Când a primit Lena Horne premiul Grammy pentru...   \n",
       "3  Prinţul Harry şi prinţul William au aceiaşi pă...   \n",
       "4  Care este ierarhicul BrainInfo ID al lobului f...   \n",
       "\n",
       "                                         question_vi  \\\n",
       "0  Phải chăng ông Kennedy là một môn đồ của Giáo ...   \n",
       "1   Tên của vở kịch dựa trên ngày 12 tháng 12 là gì?   \n",
       "2  Khi nào chị ấy nhận được giải thưởng cho bản n...   \n",
       "3  Có phải Hoàng tử Harry và Hoàng tử William cũn...   \n",
       "4                  Cái nào là chứng minh của khối u?   \n",
       "\n",
       "                                         question_ru  \\\n",
       "0  Была ли Жаклин Кеннеди Онассис последователем ...   \n",
       "1  Как называется опера, основанная на \"Двенадцат...   \n",
       "2  Когда Лена Хорн получила премию Грэмми за лучш...   \n",
       "3  У принца Гарри и принца Уильяма одни и те же р...   \n",
       "4  Какой иерархический идентификатор мозга лобной...   \n",
       "\n",
       "                                         question_fr  \\\n",
       "0  Jacqueline Kennedy Onassis était - elle une di...   \n",
       "1  Quel est le nom de l'opéra basé sur la Douzièm...   \n",
       "2  Quand Lena Horne a-t-elle reçu le Grammy Award...   \n",
       "3  Le prince Harry et le prince William ont - ils...   \n",
       "4  Quel est le BrainInfo ID hiérarchique du lobe ...   \n",
       "\n",
       "                                         question_cs  \\\n",
       "0  Byla Jacqueline Kennedy Onassisová následovník...   \n",
       "1    Jak se jmenuje opera založená na Dvanácté noci?   \n",
       "2  Kdy dostala Lena Horne cenu Grammy za nejlepší...   \n",
       "3    Mají princ Harry a princ William stejné rodiče?   \n",
       "4  Který je hierarchický BrainInfo ID čelního lal...   \n",
       "\n",
       "                                        question_jap  \n",
       "0  アビトリダ と い う 者 が, ギリシヤ 語 を 使 う パトラマびと, クレネ 人 など...  \n",
       "1       ジザ の 名 は なめらか で あ る. アカジン の 上 に は 名 が あ る か.  \n",
       "2                         ホルマククミテを受けるば,クミンが危険をみてきたか.  \n",
       "3         君 た る 者, 君 た る 者 も, 同様 に 両親 を 持 つ だ ろ う か.  \n",
       "4  \" わたし は 東 に あ っ て 語 る べ き こと を 見 た こと が あ る か....  "
      ]
     },
     "execution_count": 5,
     "metadata": {},
     "output_type": "execute_result"
    }
   ],
   "source": [
    "train.head()"
   ]
  },
  {
   "cell_type": "code",
   "execution_count": null,
   "id": "07e1300f-13ec-4f4b-a8a6-c25934157c72",
   "metadata": {},
   "outputs": [
    {
     "data": {
      "application/vnd.jupyter.widget-view+json": {
       "model_id": "d8ca821f002e4decaebf48446a2ac4f0",
       "version_major": 2,
       "version_minor": 0
      },
      "text/plain": [
       "  0%|          | 0/37061 [00:00<?, ?it/s]"
      ]
     },
     "metadata": {},
     "output_type": "display_data"
    },
    {
     "data": {
      "application/vnd.jupyter.widget-view+json": {
       "model_id": "0a25a420167e44f9a3a7e8861d4f8794",
       "version_major": 2,
       "version_minor": 0
      },
      "text/plain": [
       "  0%|          | 0/37061 [00:00<?, ?it/s]"
      ]
     },
     "metadata": {},
     "output_type": "display_data"
    },
    {
     "data": {
      "application/vnd.jupyter.widget-view+json": {
       "model_id": "0f5446496ed343219f815f8ec110bc35",
       "version_major": 2,
       "version_minor": 0
      },
      "text/plain": [
       "  0%|          | 0/37061 [00:00<?, ?it/s]"
      ]
     },
     "metadata": {},
     "output_type": "display_data"
    },
    {
     "data": {
      "application/vnd.jupyter.widget-view+json": {
       "model_id": "615913f4f6524fecaf03b388572f36ec",
       "version_major": 2,
       "version_minor": 0
      },
      "text/plain": [
       "  0%|          | 0/37061 [00:00<?, ?it/s]"
      ]
     },
     "metadata": {},
     "output_type": "display_data"
    },
    {
     "data": {
      "application/vnd.jupyter.widget-view+json": {
       "model_id": "d5625bd9adbe48dabaf4de135acc2a2f",
       "version_major": 2,
       "version_minor": 0
      },
      "text/plain": [
       "  0%|          | 0/37061 [00:00<?, ?it/s]"
      ]
     },
     "metadata": {},
     "output_type": "display_data"
    },
    {
     "data": {
      "application/vnd.jupyter.widget-view+json": {
       "model_id": "912d52b0368d4cd99cc40f4d1c566746",
       "version_major": 2,
       "version_minor": 0
      },
      "text/plain": [
       "  0%|          | 0/37061 [00:00<?, ?it/s]"
      ]
     },
     "metadata": {},
     "output_type": "display_data"
    },
    {
     "name": "stderr",
     "output_type": "stream",
     "text": [
      "IOPub message rate exceeded.\n",
      "The Jupyter server will temporarily stop sending output\n",
      "to the client in order to avoid crashing it.\n",
      "To change this limit, set the config variable\n",
      "`--ServerApp.iopub_msg_rate_limit`.\n",
      "\n",
      "Current values:\n",
      "ServerApp.iopub_msg_rate_limit=1000.0 (msgs/sec)\n",
      "ServerApp.rate_limit_window=3.0 (secs)\n",
      "\n"
     ]
    }
   ],
   "source": [
    "for lang in langs:\n",
    "    model = MarianMTModel.from_pretrained(f'Helsinki-NLP/opus-mt-en-{lang}').to(device)\n",
    "    tokenizer = MarianTokenizer.from_pretrained(f'Helsinki-NLP/opus-mt-en-{lang}')\n",
    "    translation_list = list()\n",
    "    \n",
    "    for text in tqdm(train.question.values):\n",
    "        # Tokenize the text\n",
    "        batch = tokenizer([text], return_tensors=\"pt\", padding=True).to(device)\n",
    "\n",
    "        # Make sure that the tokenized text does not exceed the maximum\n",
    "        # allowed size of 512\n",
    "        batch[\"input_ids\"] = batch[\"input_ids\"][:, :512]\n",
    "        batch[\"attention_mask\"] = batch[\"attention_mask\"][:, :512]\n",
    "        # Perform the translation and decode the output\n",
    "        translation = model.generate(**batch)\n",
    "        translation_list.append(tokenizer.batch_decode(translation, skip_special_tokens=True)[0])\n",
    "        \n",
    "    train[f'question_{lang}'] = translation_list\n",
    "    train.to_csv(\"../../data/at-dbpedia/dbpedia/task1_dbpedia_train_translated.csv\", sep='$', index=False)"
   ]
  },
  {
   "cell_type": "code",
   "execution_count": null,
   "id": "957e7ff3-e69b-400e-a370-19c2716820fe",
   "metadata": {},
   "outputs": [],
   "source": []
  }
 ],
 "metadata": {
  "kernelspec": {
   "display_name": "Python 3 (ipykernel)",
   "language": "python",
   "name": "python3"
  },
  "language_info": {
   "codemirror_mode": {
    "name": "ipython",
    "version": 3
   },
   "file_extension": ".py",
   "mimetype": "text/x-python",
   "name": "python",
   "nbconvert_exporter": "python",
   "pygments_lexer": "ipython3",
   "version": "3.8.10"
  }
 },
 "nbformat": 4,
 "nbformat_minor": 5
}
